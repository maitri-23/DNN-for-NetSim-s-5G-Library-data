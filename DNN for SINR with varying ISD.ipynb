{
 "cells": [
  {
   "cell_type": "markdown",
   "id": "612f515d",
   "metadata": {},
   "source": [
    "Import useful libraries"
   ]
  },
  {
   "cell_type": "code",
   "execution_count": 1,
   "id": "7d15fcb7",
   "metadata": {},
   "outputs": [],
   "source": [
    "import pandas as pd\n",
    "import numpy as np\n",
    "import matplotlib.pyplot as plt\n",
    "import math\n",
    "import tensorflow as tf "
   ]
  },
  {
   "cell_type": "markdown",
   "id": "5ef5db37",
   "metadata": {},
   "source": [
    "Functions for normalizing distance and angle"
   ]
  },
  {
   "cell_type": "code",
   "execution_count": 2,
   "id": "7bc2cbfa",
   "metadata": {},
   "outputs": [],
   "source": [
    "def normalize1(arr, t_min, t_max):\n",
    "    norm_arr = []\n",
    "    diff = t_max - t_min\n",
    "    diff_arr = 500 - 0   \n",
    "    for i in arr:\n",
    "        temp = (((i - 0)*diff)/diff_arr) + t_min\n",
    "        norm_arr.append(temp)\n",
    "    return norm_arr\n",
    "\n",
    "def normalize2(arr, t_min, t_max):\n",
    "    norm_arr = []\n",
    "    diff = t_max - t_min\n",
    "    diff_arr = math.radians(360) - math.radians(0)   \n",
    "    for i in arr:\n",
    "        temp = (((i - 0)*diff)/diff_arr) + t_min\n",
    "        norm_arr.append(temp)\n",
    "    return norm_arr\n",
    "\n",
    "def normalize3(arr, t_min, t_max):\n",
    "    norm_arr = []\n",
    "    diff = t_max - t_min\n",
    "    diff_arr = 1500 - 0   \n",
    "    for i in arr:\n",
    "        temp = (((i - 0)*diff)/diff_arr) + t_min\n",
    "        norm_arr.append(temp)\n",
    "    return norm_arr"
   ]
  },
  {
   "cell_type": "markdown",
   "id": "f4fd5cf9",
   "metadata": {},
   "source": [
    "Get input data and print the data size"
   ]
  },
  {
   "cell_type": "code",
   "execution_count": 3,
   "id": "e1421b46",
   "metadata": {},
   "outputs": [
    {
     "name": "stdout",
     "output_type": "stream",
     "text": [
      "(12744, 3)\n",
      "(12744,)\n"
     ]
    }
   ],
   "source": [
    "d0 = [i for i in range(30, 500, 10)]\n",
    "d1 = [i for i in range(30, 550, 10)]\n",
    "d2 = [i for i in range(30, 600, 10)]\n",
    "d3 = [i for i in range(30, 650, 10)]\n",
    "d4 = [i for i in range(30, 700, 10)]\n",
    "d5 = [i for i in range(60, 750, 10)]\n",
    "d = d0 + d1 + d2 + d3 + d4 + d5\n",
    "\n",
    "theta = [i for i in range(0, 360, 10)]\n",
    "\n",
    "d_list = []\n",
    "theta_list = []\n",
    "for i in d:\n",
    "    for j in theta:\n",
    "        d_list.append(i)\n",
    "        theta_list.append(math.radians(j))\n",
    "        \n",
    "df = pd.read_csv(r\"C:\\Users\\KEN\\Documents\\SINR2.csv\")\n",
    "SINR = df['SINR']\n",
    "ISD = df['ISD']\n",
    "isd_list = ISD.to_list()\n",
    "label = SINR.to_numpy()\n",
    "range_to_normalize = (0,1)\n",
    "f1 = normalize1(d_list, range_to_normalize[0], range_to_normalize[1])\n",
    "f2 = normalize2(theta_list, range_to_normalize[0], range_to_normalize[1])\n",
    "f3 = normalize3(isd_list, range_to_normalize[0], range_to_normalize[1])\n",
    "f = []\n",
    "for i in range(len(f1)):\n",
    "    f.append([f1[i], f2[i], f3[i]])\n",
    "features = np.array(f)\n",
    "\n",
    "print(features.shape)\n",
    "print(label.shape)"
   ]
  },
  {
   "cell_type": "markdown",
   "id": "11552129",
   "metadata": {},
   "source": [
    "Train-Test-Validation Split"
   ]
  },
  {
   "cell_type": "code",
   "execution_count": 4,
   "id": "7b81c3e6",
   "metadata": {},
   "outputs": [],
   "source": [
    "from sklearn.model_selection import train_test_split\n",
    "x_train, x_test, y_train, y_test = train_test_split(features, label, test_size = 0.2, random_state = 42)\n",
    "x_train, x_val, y_train, y_val = train_test_split(x_train, y_train, test_size = 0.1, random_state = 42)"
   ]
  },
  {
   "cell_type": "markdown",
   "id": "c62fc742",
   "metadata": {},
   "source": [
    "Import keras APIs"
   ]
  },
  {
   "cell_type": "code",
   "execution_count": 5,
   "id": "43cb4a0d",
   "metadata": {},
   "outputs": [],
   "source": [
    "from keras.models import Model, Sequential\n",
    "from keras.layers import Input, Dense, Flatten, Dropout, Activation, BatchNormalization, Lambda, LeakyReLU\n",
    "from keras.callbacks import EarlyStopping, TensorBoard, ReduceLROnPlateau"
   ]
  },
  {
   "cell_type": "markdown",
   "id": "639ec3c0",
   "metadata": {},
   "source": [
    "Model architecture using keras sequential model"
   ]
  },
  {
   "cell_type": "code",
   "execution_count": 6,
   "id": "d6a7b863",
   "metadata": {},
   "outputs": [
    {
     "name": "stdout",
     "output_type": "stream",
     "text": [
      "Model: \"sequential\"\n",
      "_________________________________________________________________\n",
      " Layer (type)                Output Shape              Param #   \n",
      "=================================================================\n",
      " dense (Dense)               (None, 16)                64        \n",
      "                                                                 \n",
      " activation (Activation)     (None, 16)                0         \n",
      "                                                                 \n",
      " dense_1 (Dense)             (None, 32)                544       \n",
      "                                                                 \n",
      " activation_1 (Activation)   (None, 32)                0         \n",
      "                                                                 \n",
      " dense_2 (Dense)             (None, 64)                2112      \n",
      "                                                                 \n",
      " activation_2 (Activation)   (None, 64)                0         \n",
      "                                                                 \n",
      " dense_3 (Dense)             (None, 128)               8320      \n",
      "                                                                 \n",
      " dropout (Dropout)           (None, 128)               0         \n",
      "                                                                 \n",
      " activation_3 (Activation)   (None, 128)               0         \n",
      "                                                                 \n",
      " dense_4 (Dense)             (None, 1)                 129       \n",
      "                                                                 \n",
      "=================================================================\n",
      "Total params: 11,169\n",
      "Trainable params: 11,169\n",
      "Non-trainable params: 0\n",
      "_________________________________________________________________\n"
     ]
    }
   ],
   "source": [
    "model = Sequential()\n",
    "model.add(Input(shape=(3,)))\n",
    "\n",
    "model.add(Dense(16))\n",
    "model.add(Activation('tanh'))\n",
    "model.add(Dense(32))\n",
    "model.add(Activation('tanh'))\n",
    "# model.add(Dense(32))\n",
    "# model.add(Activation('tanh'))\n",
    "# model.add(Dense(64))\n",
    "# model.add(Activation('tanh'))\n",
    "# model.add(Dropout(0.3))\n",
    "model.add(Dense(64))\n",
    "model.add(Activation('tanh'))\n",
    "model.add(Dense(128))\n",
    "model.add(Dropout(0.3))\n",
    "\n",
    "model.add(Activation('softplus'))\n",
    "model.add(Dense(1))\n",
    "model.summary()"
   ]
  },
  {
   "cell_type": "markdown",
   "id": "9c4ab94b",
   "metadata": {},
   "source": [
    "Visualize the DNN Model"
   ]
  },
  {
   "cell_type": "code",
   "execution_count": 7,
   "id": "27c150e1",
   "metadata": {},
   "outputs": [],
   "source": [
    "# from ann_visualizer.visualize import ann_viz\n",
    "# ann_viz(model, view=True, title=\"Model Architecture\")"
   ]
  },
  {
   "cell_type": "markdown",
   "id": "fdda65be",
   "metadata": {},
   "source": [
    "Training the model"
   ]
  },
  {
   "cell_type": "code",
   "execution_count": 8,
   "id": "103ed509",
   "metadata": {},
   "outputs": [
    {
     "name": "stdout",
     "output_type": "stream",
     "text": [
      "Epoch 1/50\n",
      "574/574 [==============================] - 3s 3ms/step - loss: 36.3925 - val_loss: 2.3174\n",
      "Epoch 2/50\n",
      "574/574 [==============================] - 1s 2ms/step - loss: 2.8229 - val_loss: 1.5390\n",
      "Epoch 3/50\n",
      "574/574 [==============================] - 1s 3ms/step - loss: 2.0599 - val_loss: 1.2683\n",
      "Epoch 4/50\n",
      "574/574 [==============================] - 2s 3ms/step - loss: 1.7582 - val_loss: 1.0627\n",
      "Epoch 5/50\n",
      "574/574 [==============================] - 1s 2ms/step - loss: 1.5430 - val_loss: 0.9695\n",
      "Epoch 6/50\n",
      "574/574 [==============================] - 1s 2ms/step - loss: 1.5724 - val_loss: 0.8094\n",
      "Epoch 7/50\n",
      "574/574 [==============================] - 1s 2ms/step - loss: 1.2903 - val_loss: 0.6860\n",
      "Epoch 8/50\n",
      "574/574 [==============================] - 2s 3ms/step - loss: 1.1980 - val_loss: 1.5337\n",
      "Epoch 9/50\n",
      "574/574 [==============================] - 1s 2ms/step - loss: 1.1144 - val_loss: 1.1323\n",
      "Epoch 10/50\n",
      "574/574 [==============================] - 1s 2ms/step - loss: 1.0280 - val_loss: 1.0799\n",
      "Epoch 11/50\n",
      "574/574 [==============================] - 1s 2ms/step - loss: 0.9432 - val_loss: 0.3511\n",
      "Epoch 12/50\n",
      "574/574 [==============================] - 1s 2ms/step - loss: 0.8688 - val_loss: 0.3828\n",
      "Epoch 13/50\n",
      "574/574 [==============================] - 1s 2ms/step - loss: 0.8552 - val_loss: 0.8994\n",
      "Epoch 14/50\n",
      "574/574 [==============================] - 2s 3ms/step - loss: 0.8401 - val_loss: 0.6835\n",
      "Epoch 15/50\n",
      "574/574 [==============================] - 1s 2ms/step - loss: 0.8118 - val_loss: 0.4449\n",
      "Epoch 16/50\n",
      "574/574 [==============================] - 2s 3ms/step - loss: 0.7710 - val_loss: 0.8720\n",
      "Epoch 17/50\n",
      "574/574 [==============================] - 1s 2ms/step - loss: 0.7207 - val_loss: 0.7770\n",
      "Epoch 18/50\n",
      "574/574 [==============================] - 1s 3ms/step - loss: 0.6831 - val_loss: 0.6578\n",
      "Epoch 19/50\n",
      "574/574 [==============================] - 2s 3ms/step - loss: 0.7244 - val_loss: 1.4387\n",
      "Epoch 20/50\n",
      "574/574 [==============================] - 1s 2ms/step - loss: 0.6789 - val_loss: 0.3958\n",
      "Epoch 21/50\n",
      "574/574 [==============================] - 1s 2ms/step - loss: 0.6848 - val_loss: 0.5570\n",
      "Epoch 22/50\n",
      "574/574 [==============================] - 1s 2ms/step - loss: 0.7246 - val_loss: 0.6396\n",
      "Epoch 23/50\n",
      "574/574 [==============================] - 1s 2ms/step - loss: 0.7216 - val_loss: 0.1972\n",
      "Epoch 24/50\n",
      "574/574 [==============================] - 1s 2ms/step - loss: 0.6545 - val_loss: 0.3078\n",
      "Epoch 25/50\n",
      "574/574 [==============================] - 1s 2ms/step - loss: 0.6767 - val_loss: 0.2028\n",
      "Epoch 26/50\n",
      "574/574 [==============================] - 1s 2ms/step - loss: 0.6845 - val_loss: 0.5224\n",
      "Epoch 27/50\n",
      "574/574 [==============================] - 1s 2ms/step - loss: 0.7086 - val_loss: 0.6930\n",
      "Epoch 28/50\n",
      "574/574 [==============================] - 1s 2ms/step - loss: 0.6478 - val_loss: 0.7536\n",
      "Epoch 29/50\n",
      "574/574 [==============================] - 1s 2ms/step - loss: 0.6180 - val_loss: 0.8526\n",
      "Epoch 30/50\n",
      "574/574 [==============================] - 1s 2ms/step - loss: 0.6380 - val_loss: 0.6777\n",
      "Epoch 31/50\n",
      "574/574 [==============================] - 1s 3ms/step - loss: 0.6522 - val_loss: 0.4377\n",
      "Epoch 32/50\n",
      "574/574 [==============================] - 1s 2ms/step - loss: 0.6590 - val_loss: 0.2434\n",
      "Epoch 33/50\n",
      "574/574 [==============================] - 1s 2ms/step - loss: 0.6420 - val_loss: 0.6773\n",
      "Epoch 34/50\n",
      "574/574 [==============================] - 1s 2ms/step - loss: 0.6591 - val_loss: 0.4867\n",
      "Epoch 35/50\n",
      "574/574 [==============================] - 1s 2ms/step - loss: 0.6794 - val_loss: 0.3253\n",
      "Epoch 36/50\n",
      "574/574 [==============================] - 1s 2ms/step - loss: 0.6652 - val_loss: 0.4185\n",
      "Epoch 37/50\n",
      "574/574 [==============================] - 1s 2ms/step - loss: 0.6299 - val_loss: 1.0642\n",
      "Epoch 38/50\n",
      "574/574 [==============================] - 1s 2ms/step - loss: 0.6264 - val_loss: 0.3903\n",
      "Epoch 39/50\n",
      "574/574 [==============================] - 1s 2ms/step - loss: 0.6240 - val_loss: 0.3828\n",
      "Epoch 40/50\n",
      "574/574 [==============================] - 1s 2ms/step - loss: 0.6466 - val_loss: 0.3941\n",
      "Epoch 41/50\n",
      "574/574 [==============================] - 1s 2ms/step - loss: 0.6156 - val_loss: 0.3325\n",
      "Epoch 42/50\n",
      "574/574 [==============================] - 1s 2ms/step - loss: 0.6122 - val_loss: 0.7911\n",
      "Epoch 43/50\n",
      "574/574 [==============================] - 2s 3ms/step - loss: 0.6249 - val_loss: 0.2670\n",
      "Epoch 44/50\n",
      "574/574 [==============================] - 2s 3ms/step - loss: 0.6210 - val_loss: 0.2578\n",
      "Epoch 45/50\n",
      "574/574 [==============================] - 1s 2ms/step - loss: 0.6360 - val_loss: 0.3029\n",
      "Epoch 46/50\n",
      "574/574 [==============================] - 1s 2ms/step - loss: 0.6024 - val_loss: 0.3019\n",
      "Epoch 47/50\n",
      "574/574 [==============================] - 1s 2ms/step - loss: 0.6232 - val_loss: 0.2222\n",
      "Epoch 48/50\n",
      "574/574 [==============================] - 1s 2ms/step - loss: 0.6170 - val_loss: 0.1908\n",
      "Epoch 49/50\n",
      "574/574 [==============================] - 1s 2ms/step - loss: 0.6254 - val_loss: 0.2622\n",
      "Epoch 50/50\n",
      "574/574 [==============================] - 1s 2ms/step - loss: 0.6047 - val_loss: 0.1112\n"
     ]
    }
   ],
   "source": [
    "# lr_schedule = tf.keras.optimizers.schedules.ExponentialDecay(\n",
    "#     initial_learning_rate=1e-2,\n",
    "#     decay_steps=10000,\n",
    "#     decay_rate=0.9)\n",
    "# opt = tf.keras.optimizers.Adam(learning_rate=lr_schedule)\n",
    "model.compile(optimizer='adam', loss='mse')\n",
    "losses = model.fit(x_train, y_train, \n",
    "                   validation_data=(x_val, y_val),\n",
    "                   batch_size=16, \n",
    "                   epochs=50\n",
    "                   )"
   ]
  },
  {
   "cell_type": "markdown",
   "id": "5d365ed4",
   "metadata": {},
   "source": [
    "Testing the model on test data obtained using split"
   ]
  },
  {
   "cell_type": "code",
   "execution_count": 9,
   "id": "582c3a0f",
   "metadata": {},
   "outputs": [
    {
     "name": "stdout",
     "output_type": "stream",
     "text": [
      "80/80 [==============================] - 0s 2ms/step\n",
      "MSE =  0.12080378183878103\n",
      "R2 score =  0.9989992958441091\n"
     ]
    }
   ],
   "source": [
    "from sklearn.metrics import mean_squared_error\n",
    "from sklearn.metrics import r2_score\n",
    "import math\n",
    "y_pred = model.predict(x_test)\n",
    "MSE = mean_squared_error(y_test,y_pred)\n",
    "print(\"MSE = \",MSE)\n",
    "R2 = r2_score(y_test, y_pred)\n",
    "print(\"R2 score = \",R2)"
   ]
  },
  {
   "cell_type": "markdown",
   "id": "6dac2fb0",
   "metadata": {},
   "source": [
    "Plot MSE vs Epochs"
   ]
  },
  {
   "cell_type": "code",
   "execution_count": 10,
   "id": "c865b7ac",
   "metadata": {},
   "outputs": [
    {
     "data": {
      "image/png": "[encoded data removed]",
      "text/plain": [
       "<Figure size 640x480 with 1 Axes>"
      ]
     },
     "metadata": {},
     "output_type": "display_data"
    }
   ],
   "source": [
    "from keras.callbacks import History\n",
    "history = History()\n",
    "epoch = [i for i in range(1, 51)]\n",
    "l1 = losses.history['val_loss']\n",
    "l2 = losses.history['loss']\n",
    "plt.plot( epoch[5:],l1[5:] , label='validation loss')\n",
    "plt.plot(epoch[5:], l2[5:], label='training loss')\n",
    "plt.title('MSE vs Epochs')\n",
    "plt.xlabel('epochs')\n",
    "plt.ylabel('MSE')\n",
    "plt.legend()\n",
    "plt.show()"
   ]
  },
  {
   "cell_type": "markdown",
   "id": "23ffb3a1",
   "metadata": {},
   "source": [
    "Getting test data from csv, normalizing it to get test data"
   ]
  },
  {
   "cell_type": "code",
   "execution_count": 11,
   "id": "eda8c3a7",
   "metadata": {},
   "outputs": [],
   "source": [
    "# dft = pd.read_csv(r\"C:\\Users\\KEN\\test.csv\")\n",
    "# xt = dft['X'].tolist()\n",
    "# yt = dft['Y'].tolist()\n",
    "# SINRt = dft['SINR']\n",
    "# ft1 = normalize(xt, range_to_normalize[0], range_to_normalize[1])\n",
    "# ft2 = normalize(yt, range_to_normalize[0], range_to_normalize[1])\n",
    "# ft = []\n",
    "# for i in range(len(ft1)):\n",
    "#     ft.append([ft1[i], ft2[i]])\n",
    "# test = np.array(ft)\n",
    "# act = SINRt.to_numpy()\n",
    "\n",
    "dft = pd.read_csv(r\"C:\\Users\\KEN\\Documents\\SINRt2.csv\")\n",
    "SINRt = dft['SINR']\n",
    "ISDt = dft['ISD']\n",
    "act = SINRt.to_numpy()\n",
    "\n",
    "dt = [405, 405]\n",
    "theta_t = [2, 15, 36, 55, 75, 102, 119, 125, 147, 155, 174, 205, 213, 236, 255, 295, 311 ,331, 343, 355]\n",
    "\n",
    "d_tlist = []\n",
    "theta_tlist = []\n",
    "for i in dt:\n",
    "    for j in theta_t:\n",
    "        d_tlist.append(i)\n",
    "        theta_tlist.append(math.radians(j))\n",
    "        \n",
    "isd_tlist = ISDt.to_list()\n",
    "\n",
    "ft1 = normalize1(d_tlist, range_to_normalize[0], range_to_normalize[1])\n",
    "ft2 = normalize2(theta_tlist, range_to_normalize[0], range_to_normalize[1])\n",
    "ft3 = normalize3(isd_tlist, range_to_normalize[0], range_to_normalize[1])\n",
    "ft = []\n",
    "for i in range(len(ft1)):\n",
    "    ft.append([ft1[i], ft2[i], ft3[i]])\n",
    "test = np.array(ft)"
   ]
  },
  {
   "cell_type": "markdown",
   "id": "fac19520",
   "metadata": {},
   "source": [
    "Obtain predicted data and Measures"
   ]
  },
  {
   "cell_type": "code",
   "execution_count": 12,
   "id": "7761eefc",
   "metadata": {},
   "outputs": [
    {
     "name": "stdout",
     "output_type": "stream",
     "text": [
      "2/2 [==============================] - 0s 3ms/step\n",
      "MSE =  0.005433516797543105\n",
      "R2 score =  0.9937237182006057\n"
     ]
    }
   ],
   "source": [
    "pred = model.predict(test)\n",
    "MSE = mean_squared_error(act,pred)\n",
    "print(\"MSE = \",MSE)\n",
    "R2 = r2_score(pred, act)\n",
    "print(\"R2 score = \",R2)"
   ]
  },
  {
   "cell_type": "markdown",
   "id": "aa874739",
   "metadata": {},
   "source": [
    "Plot for ISD = 1150 m for distance = 405 m"
   ]
  },
  {
   "cell_type": "code",
   "execution_count": 13,
   "id": "b52184cd",
   "metadata": {},
   "outputs": [
    {
     "data": {
      "image/png": "[encoded data removed]",
      "text/plain": [
       "<Figure size 640x480 with 1 Axes>"
      ]
     },
     "metadata": {},
     "output_type": "display_data"
    },
    {
     "name": "stdout",
     "output_type": "stream",
     "text": [
      "0.006285954875849878\n",
      "-0.23205740854234125\n"
     ]
    }
   ],
   "source": [
    "actual_SINR = list(act)\n",
    "pred_SINR = list(pred)\n",
    "\n",
    "plt.plot(theta_t, pred_SINR[:20], label='from DNN')\n",
    "plt.plot(theta_t, actual_SINR[:20], label='from NetSim')\n",
    "plt.xlabel('Angle (in degrees)')\n",
    "plt.ylabel('SINR')\n",
    "plt.title('SINR vs Angle: ISD = 1150m')\n",
    "#plt.xticks([2, 15, 36, 55, 75, 102, 119, 125, 147, 155, 174, 205, 213, 236, 255, 295, 311 ,331, 343, 355], rotation=90)\n",
    "plt.ylim(5, 15)\n",
    "plt.grid()\n",
    "plt.legend()\n",
    "plt.show()\n",
    "\n",
    "print(mean_squared_error(np.array(actual_SINR[:20]), np.array(pred_SINR[:20])))\n",
    "print(r2_score(np.array(actual_SINR[:20]), np.array(pred_SINR[:20])))"
   ]
  },
  {
   "cell_type": "markdown",
   "id": "40ef3ef1",
   "metadata": {},
   "source": [
    "Plot for ISD = 1250 m for distance = 405 m"
   ]
  },
  {
   "cell_type": "code",
   "execution_count": 14,
   "id": "59e09166",
   "metadata": {},
   "outputs": [
    {
     "data": {
      "image/png": "[encoded data removed]",
      "text/plain": [
       "<Figure size 640x480 with 1 Axes>"
      ]
     },
     "metadata": {},
     "output_type": "display_data"
    },
    {
     "name": "stdout",
     "output_type": "stream",
     "text": [
      "0.004581078719236331\n",
      "-1.2647500817276507\n"
     ]
    }
   ],
   "source": [
    "plt.plot(theta_t, pred_SINR[20:], label='from DNN')\n",
    "plt.plot(theta_t, actual_SINR[20:], label='from NetSim')\n",
    "plt.xlabel('Angle (in degrees)')\n",
    "plt.ylabel('SINR')\n",
    "plt.title('SINR vs Angle: ISD = 1250m')\n",
    "#plt.xticks([2, 15, 36, 55, 75, 102, 119, 125, 147, 155, 174, 205, 213, 236, 255, 295, 311 ,331, 343, 355], rotation=90)\n",
    "plt.ylim(5, 15)\n",
    "plt.grid()\n",
    "plt.legend()\n",
    "plt.show()\n",
    "\n",
    "print(mean_squared_error(actual_SINR[20:], pred_SINR[20:]))\n",
    "print(r2_score(actual_SINR[20:], pred_SINR[20:]))"
   ]
  },
  {
   "cell_type": "code",
   "execution_count": 15,
   "id": "7e75793e",
   "metadata": {},
   "outputs": [],
   "source": [
    "# plt.plot(theta_t, pred_SINR[:36], label='pred')\n",
    "# plt.plot(theta_t, actual_SINR[:36], label='act')\n",
    "# plt.xlabel('Angle (in degrees)')\n",
    "# plt.ylabel('SINR')\n",
    "# plt.xticks([i for i in range(0, 360, 30)])\n",
    "# plt.grid()\n",
    "# plt.legend()\n",
    "# plt.show()\n",
    "\n",
    "# print(mean_squared_error(actual_SINR[:36], pred_SINR[:36]))\n",
    "# print(r2_score(actual_SINR[:36], pred_SINR[:36]))"
   ]
  },
  {
   "cell_type": "code",
   "execution_count": null,
   "id": "817c7a83",
   "metadata": {},
   "outputs": [],
   "source": []
  },
  {
   "cell_type": "code",
   "execution_count": null,
   "id": "bd38493c",
   "metadata": {},
   "outputs": [],
   "source": []
  }
 ],
 "metadata": {
  "kernelspec": {
   "display_name": "Python 3 (ipykernel)",
   "language": "python",
   "name": "python3"
  },
  "language_info": {
   "codemirror_mode": {
    "name": "ipython",
    "version": 3
   },
   "file_extension": ".py",
   "mimetype": "text/x-python",
   "name": "python",
   "nbconvert_exporter": "python",
   "pygments_lexer": "ipython3",
   "version": "3.9.13"
  },
  "vscode": {
   "interpreter": {
    "hash": "8dce2334e1b39397852bdfd84e7cb726ba693fc159abcb3714cb45bbb433c9bb"
   }
  }
 },
 "nbformat": 4,
 "nbformat_minor": 5
}
